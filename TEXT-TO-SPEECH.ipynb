{
 "cells": [
  {
   "cell_type": "code",
   "execution_count": 1,
   "id": "a4c8422d",
   "metadata": {},
   "outputs": [
    {
     "data": {
      "text/plain": [
       "1"
      ]
     },
     "execution_count": 1,
     "metadata": {},
     "output_type": "execute_result"
    }
   ],
   "source": [
    "from gtts import gTTS\n",
    "import os\n",
    "mytext = 'welcome kavita choougule'\n",
    "language ='en'\n",
    "myobj = gTTS(text = mytext, lang=language)\n",
    "myobj.save(\"welcome.mp3\")\n",
    "os.system(\"mpg321 welcome.mp3\")"
   ]
  },
  {
   "cell_type": "code",
   "execution_count": 3,
   "id": "bf6fce24",
   "metadata": {},
   "outputs": [
    {
     "name": "stdout",
     "output_type": "stream",
     "text": [
      "Requirement already satisfied: pyttsx3 in c:\\users\\chougule\\anaconda3\\lib\\site-packages (2.90)\n",
      "Requirement already satisfied: comtypes in c:\\users\\chougule\\anaconda3\\lib\\site-packages (from pyttsx3) (1.1.9)\n",
      "Requirement already satisfied: pypiwin32 in c:\\users\\chougule\\anaconda3\\lib\\site-packages (from pyttsx3) (223)\n",
      "Requirement already satisfied: pywin32 in c:\\users\\chougule\\anaconda3\\lib\\site-packages (from pyttsx3) (227)\n",
      "Note: you may need to restart the kernel to use updated packages.\n"
     ]
    }
   ],
   "source": [
    "pip install pyttsx3"
   ]
  },
  {
   "cell_type": "code",
   "execution_count": 6,
   "id": "aa2115ca",
   "metadata": {},
   "outputs": [],
   "source": [
    "import pyttsx3\n",
    "pyobj = pyttsx3.init()\n",
    "fo =open(\"C:\\\\Users\\\\CHOUGULE\\\\Desktop\\\\Rachana\\\\You and Your Research.txt\",\"r\")\n",
    "ip = fo.read()\n",
    "pyobj.say(ip)"
   ]
  },
  {
   "cell_type": "code",
   "execution_count": null,
   "id": "bb2e1e75",
   "metadata": {},
   "outputs": [],
   "source": [
    "import pyttsx3\n",
    "pyobj = pyttsx3.init()\n",
    "pyobj.say(\"hey rachana \")\n",
    "pyobj.runAndWait()"
   ]
  },
  {
   "cell_type": "code",
   "execution_count": null,
   "id": "11f56892",
   "metadata": {},
   "outputs": [],
   "source": []
  },
  {
   "cell_type": "code",
   "execution_count": null,
   "id": "b0d0b976",
   "metadata": {},
   "outputs": [],
   "source": []
  }
 ],
 "metadata": {
  "kernelspec": {
   "display_name": "Python 3",
   "language": "python",
   "name": "python3"
  },
  "language_info": {
   "codemirror_mode": {
    "name": "ipython",
    "version": 3
   },
   "file_extension": ".py",
   "mimetype": "text/x-python",
   "name": "python",
   "nbconvert_exporter": "python",
   "pygments_lexer": "ipython3",
   "version": "3.8.8"
  }
 },
 "nbformat": 4,
 "nbformat_minor": 5
}
